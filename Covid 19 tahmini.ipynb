{
  "nbformat": 4,
  "nbformat_minor": 0,
  "metadata": {
    "colab": {
      "provenance": [],
      "authorship_tag": "ABX9TyNAOjN45LMV4ugRJTKeNrrj",
      "include_colab_link": true
    },
    "kernelspec": {
      "name": "python3",
      "display_name": "Python 3"
    },
    "language_info": {
      "name": "python"
    }
  },
  "cells": [
    {
      "cell_type": "markdown",
      "metadata": {
        "id": "view-in-github",
        "colab_type": "text"
      },
      "source": [
        "<a href=\"https://colab.research.google.com/github/tuba39/abc/blob/main/Covid%2019%20tahmini.ipynb\" target=\"_parent\"><img src=\"https://colab.research.google.com/assets/colab-badge.svg\" alt=\"Open In Colab\"/></a>"
      ]
    },
    {
      "cell_type": "code",
      "execution_count": 1,
      "metadata": {
        "id": "z0FjhHUvR9BU"
      },
      "outputs": [],
      "source": [
        "from tensorflow.keras.models import Sequential\n",
        "from tensorflow.keras.layers import Dense, Conv2D, Flatten, Dropout, MaxPooling2D\n",
        "from tensorflow.keras.preprocessing.image import ImageDataGenerator\n",
        "import numpy as np\n",
        "import matplotlib.pyplot as plt"
      ]
    },
    {
      "cell_type": "code",
      "source": [
        "! git clone https://github.com/imonur/covid19_verisetleri.git"
      ],
      "metadata": {
        "colab": {
          "base_uri": "https://localhost:8080/"
        },
        "id": "eTK6oKk6SHS7",
        "outputId": "1d1015af-938b-45b2-ff2f-c9a23662dc3f"
      },
      "execution_count": 2,
      "outputs": [
        {
          "output_type": "stream",
          "name": "stdout",
          "text": [
            "Cloning into 'covid19_verisetleri'...\n",
            "remote: Enumerating objects: 2320, done.\u001b[K\n",
            "remote: Counting objects: 100% (22/22), done.\u001b[K\n",
            "remote: Compressing objects: 100% (18/18), done.\u001b[K\n",
            "remote: Total 2320 (delta 4), reused 19 (delta 1), pack-reused 2298\u001b[K\n",
            "Receiving objects: 100% (2320/2320), 1.31 GiB | 37.46 MiB/s, done.\n",
            "Resolving deltas: 100% (4/4), done.\n",
            "Updating files: 100% (2302/2302), done.\n"
          ]
        }
      ]
    },
    {
      "cell_type": "code",
      "source": [
        "import os \n",
        "main_dir = './covid19_verisetleri/Data'\n",
        "egitim_dir =os.path.join(main_dir,'egitim')\n",
        "test_dir = os.path.join(main_dir,'test')\n",
        "egitim_covid_dir = os.path.join(egitim_dir,'COVID19')\n",
        "egitim_normal_dir = os.path.join(egitim_dir,'NORMAL')\n",
        "test_covid_dir = os.path.join(test_dir,'COVID19')\n",
        "test_normal_dir = os.path.join(test_dir,'NORMAL')\n"
      ],
      "metadata": {
        "id": "z7LTNrpSSLF6"
      },
      "execution_count": 10,
      "outputs": []
    },
    {
      "cell_type": "code",
      "source": [
        "egitim_covid_names = os.listdir(egitim_covid_dir)\n",
        "print(egitim_covid_names[:10])\n",
        "\n",
        "egitim_normal_names = os.listdir(egitim_normal_dir)\n",
        "print(egitim_normal_names[:10])\n",
        "\n",
        "test_covid_names = os.listdir(test_covid_dir)\n",
        "print(test_covid_names[:10])\n",
        "\n",
        "test_normal_names = os.listdir(test_normal_dir)\n",
        "print(test_normal_names[:10])"
      ],
      "metadata": {
        "colab": {
          "base_uri": "https://localhost:8080/"
        },
        "id": "CBMjB0GvSXLZ",
        "outputId": "fd3f22a2-9daa-4b59-f051-d8d3cb6c1bc4"
      },
      "execution_count": 4,
      "outputs": [
        {
          "output_type": "stream",
          "name": "stdout",
          "text": [
            "['COVID19(38).jpg', 'COVID19(11).jpg', 'COVID-19 (28).jpeg', 'COVID19(290).jpg', 'COVID19(536).jpg', 'COVID19(421).jpg', 'COVID19(196).jpg', 'COVID19(131).jpg', 'COVID-19 (101).jpg', 'COVID19(30).jpg']\n",
            "['NORMAL(1317).jpg', 'NORMAL(1263).jpg', 'NORMAL(708).jpg', 'NORMAL(202).jpg', 'NORMAL(743).jpg', 'NORMAL(1074).jpg', 'NORMAL(672).jpg', 'NORMAL(1187).jpg', 'NORMAL(1191).jpg', 'NORMAL(1549).jpg']\n",
            "['COVID19(289).jpg', 'COVID19(483).jpg', 'COVID-19 (425).jpg', 'COVID19(463).jpg', 'COVID19(285).jpg', 'COVID19(337).jpg', 'COVID19(129).jpg', 'COVID19(399).jpg', 'COVID-19 (642).jpg', 'COVID19(346).jpg']\n",
            "['NORMAL(393).jpg', 'NORMAL(248).jpg', 'NORMAL(1118).jpg', 'NORMAL(543).jpg', 'NORMAL(161).jpg', 'NORMAL(230).jpg', 'NORMAL(356).jpg', 'NORMAL(561).jpg', 'NORMAL(1001).jpg', 'NORMAL(293).jpg']\n"
          ]
        }
      ]
    },
    {
      "cell_type": "code",
      "source": [
        "print(\"Egitim verisetindeki covid görüntüleri :\",len(egitim_covid_names))\n",
        "print(\"Egitim verisetindeki normal görüntüler :\",len(egitim_normal_names))\n",
        "print(\"Test verisetindeki covid görüntüleri :\",len(test_covid_names))\n",
        "print(\"Test dataset normal görüntüleri :\",len(test_normal_names))\n",
        "print(\"Toplam eğitim görüntüleri :\",len(egitim_covid_names+egitim_normal_names))\n",
        "print(\"Toplam test görüntüleri :\",len(test_covid_names+test_normal_names))"
      ],
      "metadata": {
        "colab": {
          "base_uri": "https://localhost:8080/"
        },
        "id": "8pyKrvrEScT5",
        "outputId": "a7fe3427-ff65-4c00-ef30-93d9bb14d86b"
      },
      "execution_count": 5,
      "outputs": [
        {
          "output_type": "stream",
          "name": "stdout",
          "text": [
            "Egitim verisetindeki covid görüntüleri : 545\n",
            "Egitim verisetindeki normal görüntüler : 1266\n",
            "Test verisetindeki covid görüntüleri : 167\n",
            "Test dataset normal görüntüleri : 317\n",
            "Toplam eğitim görüntüleri : 1811\n",
            "Toplam test görüntüleri : 484\n"
          ]
        }
      ]
    },
    {
      "cell_type": "code",
      "source": [
        "import matplotlib.pyplot as plt\n",
        "import matplotlib.image as mpimg\n",
        "\n",
        "#Sütun ve satır sayısı ayarlanır\n",
        "nrows = 4\n",
        "ncols = 4\n",
        "\n",
        "#Figür boyutu ayarlanır\n",
        "fig = plt.gcf()\n",
        "fig.set_size_inches(12,12)\n",
        "\n",
        "\n",
        "sonraki_covid_pic = [os.path.join(egitim_covid_dir,fname)for fname in egitim_covid_names[0:8]]\n",
        "sonraki_normal_pic = [os.path.join(egitim_normal_dir,fname)for fname in egitim_normal_names[0:8]]\n",
        "\n",
        "#Listeyi yazdır\n",
        "print(sonraki_covid_pic)\n",
        "print(sonraki_normal_pic)\n",
        "\n",
        "for i , img_path in enumerate(sonraki_covid_pic+sonraki_normal_pic):\n",
        "    data = img_path.split('/',6)[6]\n",
        "    sp =plt.subplot(nrows,ncols,i+1)\n",
        "    sp.axis('Off')\n",
        "    img = mpimg.imread(img_path)\n",
        "    sp.set_title(data,fontsize=10)\n",
        "    plt.imshow(img,cmap='gray')\n",
        "  \n",
        "plt.show()"
      ],
      "metadata": {
        "colab": {
          "base_uri": "https://localhost:8080/",
          "height": 307
        },
        "id": "EvKayT75Sgy5",
        "outputId": "503c4261-84e2-4a4d-96be-e279a79d4b59"
      },
      "execution_count": 11,
      "outputs": [
        {
          "output_type": "stream",
          "name": "stdout",
          "text": [
            "['./covid19_verisetleri/Data/egitim/COVID19/COVID19(38).jpg', './covid19_verisetleri/Data/egitim/COVID19/COVID19(11).jpg', './covid19_verisetleri/Data/egitim/COVID19/COVID-19 (28).jpeg', './covid19_verisetleri/Data/egitim/COVID19/COVID19(290).jpg', './covid19_verisetleri/Data/egitim/COVID19/COVID19(536).jpg', './covid19_verisetleri/Data/egitim/COVID19/COVID19(421).jpg', './covid19_verisetleri/Data/egitim/COVID19/COVID19(196).jpg', './covid19_verisetleri/Data/egitim/COVID19/COVID19(131).jpg']\n",
            "['./covid19_verisetleri/Data/egitim/NORMAL/NORMAL(1317).jpg', './covid19_verisetleri/Data/egitim/NORMAL/NORMAL(1263).jpg', './covid19_verisetleri/Data/egitim/NORMAL/NORMAL(708).jpg', './covid19_verisetleri/Data/egitim/NORMAL/NORMAL(202).jpg', './covid19_verisetleri/Data/egitim/NORMAL/NORMAL(743).jpg', './covid19_verisetleri/Data/egitim/NORMAL/NORMAL(1074).jpg', './covid19_verisetleri/Data/egitim/NORMAL/NORMAL(672).jpg', './covid19_verisetleri/Data/egitim/NORMAL/NORMAL(1187).jpg']\n"
          ]
        },
        {
          "output_type": "error",
          "ename": "IndexError",
          "evalue": "ignored",
          "traceback": [
            "\u001b[0;31m---------------------------------------------------------------------------\u001b[0m",
            "\u001b[0;31mIndexError\u001b[0m                                Traceback (most recent call last)",
            "\u001b[0;32m<ipython-input-11-51ce4b7b443a>\u001b[0m in \u001b[0;36m<module>\u001b[0;34m\u001b[0m\n\u001b[1;32m     19\u001b[0m \u001b[0;34m\u001b[0m\u001b[0m\n\u001b[1;32m     20\u001b[0m \u001b[0;32mfor\u001b[0m \u001b[0mi\u001b[0m \u001b[0;34m,\u001b[0m \u001b[0mimg_path\u001b[0m \u001b[0;32min\u001b[0m \u001b[0menumerate\u001b[0m\u001b[0;34m(\u001b[0m\u001b[0msonraki_covid_pic\u001b[0m\u001b[0;34m+\u001b[0m\u001b[0msonraki_normal_pic\u001b[0m\u001b[0;34m)\u001b[0m\u001b[0;34m:\u001b[0m\u001b[0;34m\u001b[0m\u001b[0;34m\u001b[0m\u001b[0m\n\u001b[0;32m---> 21\u001b[0;31m     \u001b[0mdata\u001b[0m \u001b[0;34m=\u001b[0m \u001b[0mimg_path\u001b[0m\u001b[0;34m.\u001b[0m\u001b[0msplit\u001b[0m\u001b[0;34m(\u001b[0m\u001b[0;34m'/'\u001b[0m\u001b[0;34m,\u001b[0m\u001b[0;36m6\u001b[0m\u001b[0;34m)\u001b[0m\u001b[0;34m[\u001b[0m\u001b[0;36m6\u001b[0m\u001b[0;34m]\u001b[0m\u001b[0;34m\u001b[0m\u001b[0;34m\u001b[0m\u001b[0m\n\u001b[0m\u001b[1;32m     22\u001b[0m     \u001b[0msp\u001b[0m \u001b[0;34m=\u001b[0m\u001b[0mplt\u001b[0m\u001b[0;34m.\u001b[0m\u001b[0msubplot\u001b[0m\u001b[0;34m(\u001b[0m\u001b[0mnrows\u001b[0m\u001b[0;34m,\u001b[0m\u001b[0mncols\u001b[0m\u001b[0;34m,\u001b[0m\u001b[0mi\u001b[0m\u001b[0;34m+\u001b[0m\u001b[0;36m1\u001b[0m\u001b[0;34m)\u001b[0m\u001b[0;34m\u001b[0m\u001b[0;34m\u001b[0m\u001b[0m\n\u001b[1;32m     23\u001b[0m     \u001b[0msp\u001b[0m\u001b[0;34m.\u001b[0m\u001b[0maxis\u001b[0m\u001b[0;34m(\u001b[0m\u001b[0;34m'Off'\u001b[0m\u001b[0;34m)\u001b[0m\u001b[0;34m\u001b[0m\u001b[0;34m\u001b[0m\u001b[0m\n",
            "\u001b[0;31mIndexError\u001b[0m: list index out of range"
          ]
        },
        {
          "output_type": "display_data",
          "data": {
            "text/plain": [
              "<Figure size 864x864 with 0 Axes>"
            ]
          },
          "metadata": {}
        }
      ]
    },
    {
      "cell_type": "code",
      "source": [
        "from tensorflow.keras.preprocessing.image import ImageDataGenerator\n",
        "\n",
        "# Eğitim verilerimiz için jeneratör\n",
        "egitim_veri_jeneratoru = ImageDataGenerator(rescale = 1./255,\n",
        "                                   validation_split = 0.2,\n",
        "                                   zoom_range = 0.2,\n",
        "                                   horizontal_flip = True)         \n",
        "                      \n",
        "\n",
        "# Doğrulama verilerimiz için jeneratör\n",
        "dogrulama_veri_jeneratoru = ImageDataGenerator(rescale = 1./255)\n",
        "\n",
        "\n",
        "# Test verilerimiz için jeneratör\n",
        "test_veri_jeneratoru = ImageDataGenerator(rescale = 1./255)\n",
        "\n",
        "egitim_jeneratoru = egitim_veri_jeneratoru.flow_from_directory(egitim_dir ,\n",
        "                                                    target_size = (150,150),\n",
        "                                                    subset = 'training',\n",
        "                                                    batch_size = 32,\n",
        "                                                    class_mode = 'binary')\n",
        "\n",
        "dogrulama_jeneratoru = egitim_veri_jeneratoru.flow_from_directory(egitim_dir ,\n",
        "                                                    target_size = (150,150),\n",
        "                                                    subset = 'validation',\n",
        "                                                    batch_size = 32,\n",
        "                                                    class_mode = 'binary')\n",
        "\n",
        "test_jeneratoru = test_veri_jeneratoru.flow_from_directory(test_dir ,\n",
        "                                                    target_size = (150,150),\n",
        "                                                    batch_size = 32,\n",
        "                                                    class_mode = 'binary')"
      ],
      "metadata": {
        "colab": {
          "base_uri": "https://localhost:8080/"
        },
        "id": "fhBZzBP_Smqy",
        "outputId": "46dcda20-ab6f-4815-8660-1cd1edaad7a7"
      },
      "execution_count": 7,
      "outputs": [
        {
          "output_type": "stream",
          "name": "stdout",
          "text": [
            "Found 1449 images belonging to 2 classes.\n",
            "Found 362 images belonging to 2 classes.\n",
            "Found 484 images belonging to 2 classes.\n"
          ]
        }
      ]
    },
    {
      "cell_type": "code",
      "source": [
        "egitim_jeneratoru.class_indices"
      ],
      "metadata": {
        "colab": {
          "base_uri": "https://localhost:8080/"
        },
        "id": "AdZScnKrStSK",
        "outputId": "50af4b8c-4c04-4851-87d8-faa53cc6c466"
      },
      "execution_count": 12,
      "outputs": [
        {
          "output_type": "execute_result",
          "data": {
            "text/plain": [
              "{'COVID19': 0, 'NORMAL': 1}"
            ]
          },
          "metadata": {},
          "execution_count": 12
        }
      ]
    },
    {
      "cell_type": "code",
      "source": [
        "egitim_jeneratoru.image_shape"
      ],
      "metadata": {
        "colab": {
          "base_uri": "https://localhost:8080/"
        },
        "id": "hsUBSEMgS8oS",
        "outputId": "699ea7d7-fd8f-462e-f849-b21433e46c28"
      },
      "execution_count": 13,
      "outputs": [
        {
          "output_type": "execute_result",
          "data": {
            "text/plain": [
              "(150, 150, 3)"
            ]
          },
          "metadata": {},
          "execution_count": 13
        }
      ]
    },
    {
      "cell_type": "code",
      "source": [
        "from tensorflow.keras.models import Sequential\n",
        "from tensorflow.keras.layers import Dense, Conv2D, Flatten, Dropout, MaxPooling2D"
      ],
      "metadata": {
        "id": "UhppiSOtS_ra"
      },
      "execution_count": 14,
      "outputs": []
    },
    {
      "cell_type": "code",
      "source": [
        "model = Sequential()"
      ],
      "metadata": {
        "id": "99xDVmzhTEhR"
      },
      "execution_count": 15,
      "outputs": []
    },
    {
      "cell_type": "code",
      "source": [
        "# evrişim katmanı eklenir. Filtreler, filtrelerin boyutları, aktivasyon fonksiyonu belirlenir\n",
        "\n",
        "model.add(Conv2D(32,(5,5),padding='SAME',activation='relu',input_shape=(150,150,3)))"
      ],
      "metadata": {
        "id": "lVpKjB0bTICR"
      },
      "execution_count": 16,
      "outputs": []
    },
    {
      "cell_type": "code",
      "source": [
        "# pooling katmanı eklenir\n",
        "model.add(MaxPooling2D(pool_size=(2,2)))"
      ],
      "metadata": {
        "id": "QpOcSPnVTL35"
      },
      "execution_count": 17,
      "outputs": []
    },
    {
      "cell_type": "code",
      "source": [
        "# Dropout katmanı eklenir\n",
        "model.add(Dropout(0.5))"
      ],
      "metadata": {
        "id": "msVyRHI3TQbh"
      },
      "execution_count": 18,
      "outputs": []
    },
    {
      "cell_type": "code",
      "source": [
        "# Başka bir evrişim katmanı daha eklenir\n",
        "model.add(Conv2D(64,(5,5),padding='SAME',activation='relu'))"
      ],
      "metadata": {
        "id": "w-aDvhyZTT2i"
      },
      "execution_count": 19,
      "outputs": []
    },
    {
      "cell_type": "code",
      "source": [
        "# pooling katmanı eklenir\n",
        "model.add(MaxPooling2D(pool_size=(2,2)))"
      ],
      "metadata": {
        "id": "2aLXG9m6TW86"
      },
      "execution_count": 20,
      "outputs": []
    },
    {
      "cell_type": "code",
      "source": [
        "# Dropout katmanı eklenir\n",
        "model.add(Dropout(0.5))"
      ],
      "metadata": {
        "id": "NoeD8vlLTaSa"
      },
      "execution_count": 21,
      "outputs": []
    },
    {
      "cell_type": "code",
      "source": [
        "# Resmi 1 boyutlu diziye düzleştiririz\n",
        "model.add(Flatten())"
      ],
      "metadata": {
        "id": "4VVzRa6KThW6"
      },
      "execution_count": 22,
      "outputs": []
    },
    {
      "cell_type": "code",
      "source": [
        "# Düğüm sayısı ve aktivasyonu belli olan bir katman daha eklenir.\n",
        "model.add(Dense(256,activation='relu'))"
      ],
      "metadata": {
        "id": "GgHVNuR3TsS6"
      },
      "execution_count": 23,
      "outputs": []
    },
    {
      "cell_type": "code",
      "source": [
        "model.add(Dropout(0.5))\n",
        "model.add(Dense(1,activation='sigmoid'))\n",
        "model.summary()"
      ],
      "metadata": {
        "colab": {
          "base_uri": "https://localhost:8080/"
        },
        "id": "jABjjgN1Tz1a",
        "outputId": "f5a9c167-cb9e-485d-8eb2-78323f7ffe46"
      },
      "execution_count": 27,
      "outputs": [
        {
          "output_type": "stream",
          "name": "stdout",
          "text": [
            "Model: \"sequential\"\n",
            "_________________________________________________________________\n",
            " Layer (type)                Output Shape              Param #   \n",
            "=================================================================\n",
            " conv2d (Conv2D)             (None, 150, 150, 32)      2432      \n",
            "                                                                 \n",
            " max_pooling2d (MaxPooling2D  (None, 75, 75, 32)       0         \n",
            " )                                                               \n",
            "                                                                 \n",
            " dropout (Dropout)           (None, 75, 75, 32)        0         \n",
            "                                                                 \n",
            " conv2d_1 (Conv2D)           (None, 75, 75, 64)        51264     \n",
            "                                                                 \n",
            " max_pooling2d_1 (MaxPooling  (None, 37, 37, 64)       0         \n",
            " 2D)                                                             \n",
            "                                                                 \n",
            " dropout_1 (Dropout)         (None, 37, 37, 64)        0         \n",
            "                                                                 \n",
            " flatten (Flatten)           (None, 87616)             0         \n",
            "                                                                 \n",
            " dense (Dense)               (None, 256)               22429952  \n",
            "                                                                 \n",
            " dropout_2 (Dropout)         (None, 256)               0         \n",
            "                                                                 \n",
            " dense_1 (Dense)             (None, 1)                 257       \n",
            "                                                                 \n",
            "=================================================================\n",
            "Total params: 22,483,905\n",
            "Trainable params: 22,483,905\n",
            "Non-trainable params: 0\n",
            "_________________________________________________________________\n"
          ]
        }
      ]
    },
    {
      "cell_type": "code",
      "source": [
        "# Model derlemesi yapılır\n",
        "\n",
        "from tensorflow.keras.optimizers import Adam\n",
        "model.compile(Adam(learning_rate = 0.001),loss='binary_crossentropy',metrics=['accuracy'])"
      ],
      "metadata": {
        "id": "BaWM0vEYT5tS"
      },
      "execution_count": 28,
      "outputs": []
    },
    {
      "cell_type": "code",
      "source": [
        "# Modeli Eğitiyoruz\n",
        "history = model.fit(egitim_jeneratoru,\n",
        "                              epochs=3,\n",
        "                              validation_data = dogrulama_jeneratoru,\n",
        "                              validation_steps = 10)"
      ],
      "metadata": {
        "colab": {
          "base_uri": "https://localhost:8080/"
        },
        "id": "7LX6DfW9UXcC",
        "outputId": "dfc5f193-00d0-4ea9-803b-9185a3093f44"
      },
      "execution_count": 29,
      "outputs": [
        {
          "output_type": "stream",
          "name": "stdout",
          "text": [
            "Epoch 1/3\n",
            "46/46 [==============================] - 120s 3s/step - loss: 0.8561 - accuracy: 0.8192 - val_loss: 0.3447 - val_accuracy: 0.9438\n",
            "Epoch 2/3\n",
            "46/46 [==============================] - 112s 2s/step - loss: 0.2228 - accuracy: 0.9137 - val_loss: 0.3009 - val_accuracy: 0.9500\n",
            "Epoch 3/3\n",
            "46/46 [==============================] - 114s 2s/step - loss: 0.1773 - accuracy: 0.9386 - val_loss: 0.1944 - val_accuracy: 0.9531\n"
          ]
        }
      ]
    },
    {
      "cell_type": "code",
      "source": [
        "history.history.keys()"
      ],
      "metadata": {
        "colab": {
          "base_uri": "https://localhost:8080/"
        },
        "id": "WBZnxNWKUcna",
        "outputId": "02281708-5d98-4460-e364-e2ebeef87499"
      },
      "execution_count": 30,
      "outputs": [
        {
          "output_type": "execute_result",
          "data": {
            "text/plain": [
              "dict_keys(['loss', 'accuracy', 'val_loss', 'val_accuracy'])"
            ]
          },
          "metadata": {},
          "execution_count": 30
        }
      ]
    },
    {
      "cell_type": "code",
      "source": [
        "plt.plot(history.history['loss'])\n",
        "plt.plot(history.history['val_loss'])\n",
        "plt.legend(['egitim','dogrulama'])\n",
        "plt.title('Egitim ve Dogrulama Kayıpları')\n",
        "plt.xlabel('epoch')"
      ],
      "metadata": {
        "colab": {
          "base_uri": "https://localhost:8080/",
          "height": 312
        },
        "id": "WhCYBInrWHAS",
        "outputId": "acc13748-2129-40b3-a7d6-c900c5f61459"
      },
      "execution_count": 31,
      "outputs": [
        {
          "output_type": "execute_result",
          "data": {
            "text/plain": [
              "Text(0.5, 0, 'epoch')"
            ]
          },
          "metadata": {},
          "execution_count": 31
        },
        {
          "output_type": "display_data",
          "data": {
            "text/plain": [
              "<Figure size 432x288 with 1 Axes>"
            ],
            "image/png": "[encoded data removed]"
          },
          "metadata": {
            "needs_background": "light"
          }
        }
      ]
    },
    {
      "cell_type": "code",
      "source": [
        "plt.plot(history.history['accuracy'])\n",
        "plt.plot(history.history['val_accuracy'])\n",
        "plt.legend(['egitim','dogruluk'])\n",
        "plt.title('Eğitim ve Doğrulama Doğruluğu')\n",
        "plt.xlabel('epoch')"
      ],
      "metadata": {
        "colab": {
          "base_uri": "https://localhost:8080/",
          "height": 312
        },
        "id": "ifj37flqWKVS",
        "outputId": "227aaeca-e0a4-4342-d259-62f214416895"
      },
      "execution_count": 32,
      "outputs": [
        {
          "output_type": "execute_result",
          "data": {
            "text/plain": [
              "Text(0.5, 0, 'epoch')"
            ]
          },
          "metadata": {},
          "execution_count": 32
        },
        {
          "output_type": "display_data",
          "data": {
            "text/plain": [
              "<Figure size 432x288 with 1 Axes>"
            ],
            "image/png": "[encoded data removed]"
          },
          "metadata": {
            "needs_background": "light"
          }
        }
      ]
    },
    {
      "cell_type": "code",
      "source": [
        "test_loss , test_acc = model.evaluate(test_jeneratoru)\n",
        "print('test acc :{} test loss:{}'.format(test_acc,test_loss))"
      ],
      "metadata": {
        "colab": {
          "base_uri": "https://localhost:8080/"
        },
        "id": "7RuzQJIoWNzz",
        "outputId": "5db81260-2a92-411d-b83e-3377727a5f07"
      },
      "execution_count": 33,
      "outputs": [
        {
          "output_type": "stream",
          "name": "stdout",
          "text": [
            "16/16 [==============================] - 16s 952ms/step - loss: 0.1854 - accuracy: 0.9545\n",
            "test acc :0.9545454382896423 test loss:0.18543563783168793\n"
          ]
        }
      ]
    },
    {
      "cell_type": "code",
      "source": [
        "import matplotlib.pyplot as plt"
      ],
      "metadata": {
        "id": "8rU-ma59WRfy"
      },
      "execution_count": 34,
      "outputs": []
    },
    {
      "cell_type": "code",
      "source": [
        "acc = history.history['accuracy']\n",
        "val_acc = history.history['val_accuracy']\n",
        "loss = history.history['loss']\n",
        "val_loss = history.history['val_loss']\n",
        "\n",
        "epochs = range(1, len(acc) + 1)\n",
        "\n",
        "plt.plot(epochs, acc, 'bo', label='Eğitim Başarımı')\n",
        "plt.plot(epochs, val_acc, 'b', label='Doğrulama Başarımı')\n",
        "plt.title('Eğitim ve Doğrulama Başarımı')\n",
        "plt.legend()\n",
        "\n",
        "plt.figure()\n",
        "\n",
        "plt.plot(epochs, loss, 'bo', label='Eğitim Kaybı')\n",
        "plt.plot(epochs, val_loss, 'b', label='Doğrulama Kaybı')\n",
        "plt.title('Eğitim ve Doğrulama Kaybı')\n",
        "plt.legend()\n",
        "\n",
        "plt.show()"
      ],
      "metadata": {
        "colab": {
          "base_uri": "https://localhost:8080/",
          "height": 545
        },
        "id": "e7aualdvWUZT",
        "outputId": "60722e2e-fcd3-4c2b-f96a-198b17a89c1e"
      },
      "execution_count": 35,
      "outputs": [
        {
          "output_type": "display_data",
          "data": {
            "text/plain": [
              "<Figure size 432x288 with 1 Axes>"
            ],
            "image/png": "[encoded data removed]"
          },
          "metadata": {
            "needs_background": "light"
          }
        },
        {
          "output_type": "display_data",
          "data": {
            "text/plain": [
              "<Figure size 432x288 with 1 Axes>"
            ],
            "image/png": "[encoded data removed]"
          },
          "metadata": {
            "needs_background": "light"
          }
        }
      ]
    },
    {
      "cell_type": "code",
      "source": [
        "# Bir hastanın COVID19'dan etkilenip etkilenmediğini tahmin etmek için modelinizi yerel bilgisayarınızdan bazı görüntülerle test edeceğiz. \n",
        "# Bunun için ilk önce gerekli kütüphaneleri yüklüyoruz. \n",
        "\n",
        "import numpy as np\n",
        "from google.colab import files\n",
        "from keras.preprocessing import image"
      ],
      "metadata": {
        "id": "SaI-FR8JWeg6"
      },
      "execution_count": 36,
      "outputs": []
    },
    {
      "cell_type": "code",
      "source": [
        "import keras\n",
        "import tensorflow as tf\n",
        "import keras.utils as image"
      ],
      "metadata": {
        "id": "RgClI67hWiyy"
      },
      "execution_count": 37,
      "outputs": []
    },
    {
      "cell_type": "code",
      "source": [
        "# Bilgisayardan testleri yapılacak örnek görüntüler seçilir.\n",
        "uploaded = files.upload()\n",
        "for fn in uploaded.keys():\n",
        "  path='/content/'+fn\n",
        "  print(path)\n",
        "  img = image.load_img(path , target_size=(150,150))\n",
        "  x = image.img_to_array(img)\n",
        "  x=np.expand_dims(x,axis=0)\n",
        "  images = np.vstack([x])\n",
        "  classes = model.predict(images,batch_size=10)\n",
        "  print(fn)\n",
        "  if classes==0:\n",
        "    print('Covid19')\n",
        "  else:\n",
        "    print('Normal')"
      ],
      "metadata": {
        "colab": {
          "base_uri": "https://localhost:8080/",
          "height": 142
        },
        "id": "Mhahr30eWmdi",
        "outputId": "dd9b660d-8461-41d9-d236-e50ab174329f"
      },
      "execution_count": 40,
      "outputs": [
        {
          "output_type": "display_data",
          "data": {
            "text/plain": [
              "<IPython.core.display.HTML object>"
            ],
            "text/html": [
              "\n",
              "     <input type=\"file\" id=\"files-c074109a-ebee-49e3-bb5a-3e400a88be5c\" name=\"files[]\" multiple disabled\n",
              "        style=\"border:none\" />\n",
              "     <output id=\"result-c074109a-ebee-49e3-bb5a-3e400a88be5c\">\n",
              "      Upload widget is only available when the cell has been executed in the\n",
              "      current browser session. Please rerun this cell to enable.\n",
              "      </output>\n",
              "      <script>// Copyright 2017 Google LLC\n",
              "//\n",
              "// Licensed under the Apache License, Version 2.0 (the \"License\");\n",
              "// you may not use this file except in compliance with the License.\n",
              "// You may obtain a copy of the License at\n",
              "//\n",
              "//      http://www.apache.org/licenses/LICENSE-2.0\n",
              "//\n",
              "// Unless required by applicable law or agreed to in writing, software\n",
              "// distributed under the License is distributed on an \"AS IS\" BASIS,\n",
              "// WITHOUT WARRANTIES OR CONDITIONS OF ANY KIND, either express or implied.\n",
              "// See the License for the specific language governing permissions and\n",
              "// limitations under the License.\n",
              "\n",
              "/**\n",
              " * @fileoverview Helpers for google.colab Python module.\n",
              " */\n",
              "(function(scope) {\n",
              "function span(text, styleAttributes = {}) {\n",
              "  const element = document.createElement('span');\n",
              "  element.textContent = text;\n",
              "  for (const key of Object.keys(styleAttributes)) {\n",
              "    element.style[key] = styleAttributes[key];\n",
              "  }\n",
              "  return element;\n",
              "}\n",
              "\n",
              "// Max number of bytes which will be uploaded at a time.\n",
              "const MAX_PAYLOAD_SIZE = 100 * 1024;\n",
              "\n",
              "function _uploadFiles(inputId, outputId) {\n",
              "  const steps = uploadFilesStep(inputId, outputId);\n",
              "  const outputElement = document.getElementById(outputId);\n",
              "  // Cache steps on the outputElement to make it available for the next call\n",
              "  // to uploadFilesContinue from Python.\n",
              "  outputElement.steps = steps;\n",
              "\n",
              "  return _uploadFilesContinue(outputId);\n",
              "}\n",
              "\n",
              "// This is roughly an async generator (not supported in the browser yet),\n",
              "// where there are multiple asynchronous steps and the Python side is going\n",
              "// to poll for completion of each step.\n",
              "// This uses a Promise to block the python side on completion of each step,\n",
              "// then passes the result of the previous step as the input to the next step.\n",
              "function _uploadFilesContinue(outputId) {\n",
              "  const outputElement = document.getElementById(outputId);\n",
              "  const steps = outputElement.steps;\n",
              "\n",
              "  const next = steps.next(outputElement.lastPromiseValue);\n",
              "  return Promise.resolve(next.value.promise).then((value) => {\n",
              "    // Cache the last promise value to make it available to the next\n",
              "    // step of the generator.\n",
              "    outputElement.lastPromiseValue = value;\n",
              "    return next.value.response;\n",
              "  });\n",
              "}\n",
              "\n",
              "/**\n",
              " * Generator function which is called between each async step of the upload\n",
              " * process.\n",
              " * @param {string} inputId Element ID of the input file picker element.\n",
              " * @param {string} outputId Element ID of the output display.\n",
              " * @return {!Iterable<!Object>} Iterable of next steps.\n",
              " */\n",
              "function* uploadFilesStep(inputId, outputId) {\n",
              "  const inputElement = document.getElementById(inputId);\n",
              "  inputElement.disabled = false;\n",
              "\n",
              "  const outputElement = document.getElementById(outputId);\n",
              "  outputElement.innerHTML = '';\n",
              "\n",
              "  const pickedPromise = new Promise((resolve) => {\n",
              "    inputElement.addEventListener('change', (e) => {\n",
              "      resolve(e.target.files);\n",
              "    });\n",
              "  });\n",
              "\n",
              "  const cancel = document.createElement('button');\n",
              "  inputElement.parentElement.appendChild(cancel);\n",
              "  cancel.textContent = 'Cancel upload';\n",
              "  const cancelPromise = new Promise((resolve) => {\n",
              "    cancel.onclick = () => {\n",
              "      resolve(null);\n",
              "    };\n",
              "  });\n",
              "\n",
              "  // Wait for the user to pick the files.\n",
              "  const files = yield {\n",
              "    promise: Promise.race([pickedPromise, cancelPromise]),\n",
              "    response: {\n",
              "      action: 'starting',\n",
              "    }\n",
              "  };\n",
              "\n",
              "  cancel.remove();\n",
              "\n",
              "  // Disable the input element since further picks are not allowed.\n",
              "  inputElement.disabled = true;\n",
              "\n",
              "  if (!files) {\n",
              "    return {\n",
              "      response: {\n",
              "        action: 'complete',\n",
              "      }\n",
              "    };\n",
              "  }\n",
              "\n",
              "  for (const file of files) {\n",
              "    const li = document.createElement('li');\n",
              "    li.append(span(file.name, {fontWeight: 'bold'}));\n",
              "    li.append(span(\n",
              "        `(${file.type || 'n/a'}) - ${file.size} bytes, ` +\n",
              "        `last modified: ${\n",
              "            file.lastModifiedDate ? file.lastModifiedDate.toLocaleDateString() :\n",
              "                                    'n/a'} - `));\n",
              "    const percent = span('0% done');\n",
              "    li.appendChild(percent);\n",
              "\n",
              "    outputElement.appendChild(li);\n",
              "\n",
              "    const fileDataPromise = new Promise((resolve) => {\n",
              "      const reader = new FileReader();\n",
              "      reader.onload = (e) => {\n",
              "        resolve(e.target.result);\n",
              "      };\n",
              "      reader.readAsArrayBuffer(file);\n",
              "    });\n",
              "    // Wait for the data to be ready.\n",
              "    let fileData = yield {\n",
              "      promise: fileDataPromise,\n",
              "      response: {\n",
              "        action: 'continue',\n",
              "      }\n",
              "    };\n",
              "\n",
              "    // Use a chunked sending to avoid message size limits. See b/62115660.\n",
              "    let position = 0;\n",
              "    do {\n",
              "      const length = Math.min(fileData.byteLength - position, MAX_PAYLOAD_SIZE);\n",
              "      const chunk = new Uint8Array(fileData, position, length);\n",
              "      position += length;\n",
              "\n",
              "      const base64 = btoa(String.fromCharCode.apply(null, chunk));\n",
              "      yield {\n",
              "        response: {\n",
              "          action: 'append',\n",
              "          file: file.name,\n",
              "          data: base64,\n",
              "        },\n",
              "      };\n",
              "\n",
              "      let percentDone = fileData.byteLength === 0 ?\n",
              "          100 :\n",
              "          Math.round((position / fileData.byteLength) * 100);\n",
              "      percent.textContent = `${percentDone}% done`;\n",
              "\n",
              "    } while (position < fileData.byteLength);\n",
              "  }\n",
              "\n",
              "  // All done.\n",
              "  yield {\n",
              "    response: {\n",
              "      action: 'complete',\n",
              "    }\n",
              "  };\n",
              "}\n",
              "\n",
              "scope.google = scope.google || {};\n",
              "scope.google.colab = scope.google.colab || {};\n",
              "scope.google.colab._files = {\n",
              "  _uploadFiles,\n",
              "  _uploadFilesContinue,\n",
              "};\n",
              "})(self);\n",
              "</script> "
            ]
          },
          "metadata": {}
        },
        {
          "output_type": "stream",
          "name": "stdout",
          "text": [
            "Saving NORMAL(23).jpg to NORMAL(23).jpg\n",
            "/content/NORMAL(23).jpg\n",
            "1/1 [==============================] - 0s 39ms/step\n",
            "NORMAL(23).jpg\n",
            "Normal\n"
          ]
        }
      ]
    },
    {
      "cell_type": "code",
      "source": [
        "# Google Colab üzerinden dosyamızı indiriyoruz.\n",
        "\n",
        "from keras.models import load_model\n",
        "\n",
        "model = load_model('my_model.h5')\n",
        "model.summary()"
      ],
      "metadata": {
        "colab": {
          "base_uri": "https://localhost:8080/",
          "height": 363
        },
        "id": "mbEvVrrKX_Mz",
        "outputId": "58f66929-29f8-4f90-d730-f178d2277085"
      },
      "execution_count": 43,
      "outputs": [
        {
          "output_type": "error",
          "ename": "OSError",
          "evalue": "ignored",
          "traceback": [
            "\u001b[0;31m---------------------------------------------------------------------------\u001b[0m",
            "\u001b[0;31mOSError\u001b[0m                                   Traceback (most recent call last)",
            "\u001b[0;32m<ipython-input-43-69a61092e4e3>\u001b[0m in \u001b[0;36m<module>\u001b[0;34m\u001b[0m\n\u001b[1;32m      3\u001b[0m \u001b[0;32mfrom\u001b[0m \u001b[0mkeras\u001b[0m\u001b[0;34m.\u001b[0m\u001b[0mmodels\u001b[0m \u001b[0;32mimport\u001b[0m \u001b[0mload_model\u001b[0m\u001b[0;34m\u001b[0m\u001b[0;34m\u001b[0m\u001b[0m\n\u001b[1;32m      4\u001b[0m \u001b[0;34m\u001b[0m\u001b[0m\n\u001b[0;32m----> 5\u001b[0;31m \u001b[0mmodel\u001b[0m \u001b[0;34m=\u001b[0m \u001b[0mload_model\u001b[0m\u001b[0;34m(\u001b[0m\u001b[0;34m'my_model.h5'\u001b[0m\u001b[0;34m)\u001b[0m\u001b[0;34m\u001b[0m\u001b[0;34m\u001b[0m\u001b[0m\n\u001b[0m\u001b[1;32m      6\u001b[0m \u001b[0mmodel\u001b[0m\u001b[0;34m.\u001b[0m\u001b[0msummary\u001b[0m\u001b[0;34m(\u001b[0m\u001b[0;34m)\u001b[0m\u001b[0;34m\u001b[0m\u001b[0;34m\u001b[0m\u001b[0m\n",
            "\u001b[0;32m/usr/local/lib/python3.9/dist-packages/keras/utils/traceback_utils.py\u001b[0m in \u001b[0;36merror_handler\u001b[0;34m(*args, **kwargs)\u001b[0m\n\u001b[1;32m     68\u001b[0m             \u001b[0;31m# To get the full stack trace, call:\u001b[0m\u001b[0;34m\u001b[0m\u001b[0;34m\u001b[0m\u001b[0m\n\u001b[1;32m     69\u001b[0m             \u001b[0;31m# `tf.debugging.disable_traceback_filtering()`\u001b[0m\u001b[0;34m\u001b[0m\u001b[0;34m\u001b[0m\u001b[0m\n\u001b[0;32m---> 70\u001b[0;31m             \u001b[0;32mraise\u001b[0m \u001b[0me\u001b[0m\u001b[0;34m.\u001b[0m\u001b[0mwith_traceback\u001b[0m\u001b[0;34m(\u001b[0m\u001b[0mfiltered_tb\u001b[0m\u001b[0;34m)\u001b[0m \u001b[0;32mfrom\u001b[0m \u001b[0;32mNone\u001b[0m\u001b[0;34m\u001b[0m\u001b[0;34m\u001b[0m\u001b[0m\n\u001b[0m\u001b[1;32m     71\u001b[0m         \u001b[0;32mfinally\u001b[0m\u001b[0;34m:\u001b[0m\u001b[0;34m\u001b[0m\u001b[0;34m\u001b[0m\u001b[0m\n\u001b[1;32m     72\u001b[0m             \u001b[0;32mdel\u001b[0m \u001b[0mfiltered_tb\u001b[0m\u001b[0;34m\u001b[0m\u001b[0;34m\u001b[0m\u001b[0m\n",
            "\u001b[0;32m/usr/local/lib/python3.9/dist-packages/keras/saving/legacy/save.py\u001b[0m in \u001b[0;36mload_model\u001b[0;34m(filepath, custom_objects, compile, options)\u001b[0m\n\u001b[1;32m    225\u001b[0m                 \u001b[0;32mif\u001b[0m \u001b[0misinstance\u001b[0m\u001b[0;34m(\u001b[0m\u001b[0mfilepath_str\u001b[0m\u001b[0;34m,\u001b[0m \u001b[0mstr\u001b[0m\u001b[0;34m)\u001b[0m\u001b[0;34m:\u001b[0m\u001b[0;34m\u001b[0m\u001b[0;34m\u001b[0m\u001b[0m\n\u001b[1;32m    226\u001b[0m                     \u001b[0;32mif\u001b[0m \u001b[0;32mnot\u001b[0m \u001b[0mtf\u001b[0m\u001b[0;34m.\u001b[0m\u001b[0mio\u001b[0m\u001b[0;34m.\u001b[0m\u001b[0mgfile\u001b[0m\u001b[0;34m.\u001b[0m\u001b[0mexists\u001b[0m\u001b[0;34m(\u001b[0m\u001b[0mfilepath_str\u001b[0m\u001b[0;34m)\u001b[0m\u001b[0;34m:\u001b[0m\u001b[0;34m\u001b[0m\u001b[0;34m\u001b[0m\u001b[0m\n\u001b[0;32m--> 227\u001b[0;31m                         raise IOError(\n\u001b[0m\u001b[1;32m    228\u001b[0m                             \u001b[0;34mf\"No file or directory found at {filepath_str}\"\u001b[0m\u001b[0;34m\u001b[0m\u001b[0;34m\u001b[0m\u001b[0m\n\u001b[1;32m    229\u001b[0m                         )\n",
            "\u001b[0;31mOSError\u001b[0m: No file or directory found at my_model.h5"
          ]
        }
      ]
    },
    {
      "cell_type": "code",
      "source": [],
      "metadata": {
        "id": "ctywJhXzYmMD"
      },
      "execution_count": null,
      "outputs": []
    }
  ]
}