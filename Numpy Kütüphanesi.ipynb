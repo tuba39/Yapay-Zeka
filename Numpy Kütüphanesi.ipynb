{
 "cells": [
  {
   "cell_type": "markdown",
   "id": "4d15c8d1",
   "metadata": {},
   "source": [
    "# Numpy Paketi"
   ]
  },
  {
   "cell_type": "markdown",
   "id": "71f63fad",
   "metadata": {},
   "source": [
    "Hesaplama yaparken numpy kütüphanesinden yararlanırız."
   ]
  },
  {
   "cell_type": "code",
   "execution_count": null,
   "id": "69ef4b3a",
   "metadata": {},
   "outputs": [],
   "source": [
    "import numpy as np\n",
    "vize = [10, 20, 30, 40]\n",
    "final =  [2, 60, 32, 50]\n",
    "\n",
    "vize_np = np.array(vize)\n",
    "final_np = np.array(final)\n",
    "\n",
    "ortalama = (vize_np + final_np)/2\n",
    "print(ortalama)"
   ]
  },
  {
   "cell_type": "markdown",
   "id": "5c0fe645",
   "metadata": {},
   "source": [
    "# Çok Boyutlu Numpy Dizileri"
   ]
  },
  {
   "cell_type": "code",
   "execution_count": null,
   "id": "5e0af11b",
   "metadata": {},
   "outputs": [],
   "source": [
    "import numpy as np\n",
    "\n",
    "# İki boyutlu bir numpy dizisi oluşturma\n",
    "my_array = np.array([[1,2,3],[4,5,6]])\n",
    "\n",
    "# Numpy dizisini ekrana yazdırma\n",
    "print(my_array)"
   ]
  },
  {
   "cell_type": "markdown",
   "id": "ac81d17f",
   "metadata": {},
   "source": [
    "# Max Dizisi"
   ]
  },
  {
   "cell_type": "code",
   "execution_count": null,
   "id": "121c28ae",
   "metadata": {},
   "outputs": [],
   "source": [
    "import numpy as np\n",
    "\n",
    "arr = np.array([1,2,3,4,5])\n",
    "max_value = np.amax(arr)\n",
    "print(max_value) "
   ]
  },
  {
   "cell_type": "code",
   "execution_count": null,
   "id": "6b73434d",
   "metadata": {},
   "outputs": [],
   "source": [
    "import numpy as np\n",
    "\n",
    "arr = np.array([[1,2,3],[4,5,6],[7,8,9]])\n",
    "max_values = np.amax(arr, axis=1)\n",
    "print(max_values)"
   ]
  },
  {
   "cell_type": "markdown",
   "id": "d986fda0",
   "metadata": {},
   "source": [
    "axis=1 olunca satırlar arasındaki max değeri bulur. axis=0 olunca sutünler arasındaki max değeri bulur."
   ]
  },
  {
   "cell_type": "code",
   "execution_count": null,
   "id": "b09934f2",
   "metadata": {},
   "outputs": [],
   "source": [
    "import numpy as np\n",
    "\n",
    "arr = np.array([[1,2,3,4,5],[6,7,8,9,10]])\n",
    "max_values = np.amax(arr, axis=0)\n",
    "print(max_values)"
   ]
  },
  {
   "cell_type": "markdown",
   "id": "e55c4631",
   "metadata": {},
   "source": [
    "initial: Dizideki maximum değerleri bulmak için başlangış değerini belirler.Örneğin; dizideki max değeri 0'dan başlatmak istersek:\n"
   ]
  },
  {
   "cell_type": "code",
   "execution_count": 2,
   "id": "9bdf4fcd",
   "metadata": {},
   "outputs": [
    {
     "name": "stdout",
     "output_type": "stream",
     "text": [
      "5\n"
     ]
    }
   ],
   "source": [
    "import numpy as np\n",
    "\n",
    "arr = np.array([1,2,3,4,5])\n",
    "max_value = np.amax(arr, initial=0)\n",
    "print(max_value)"
   ]
  },
  {
   "cell_type": "code",
   "execution_count": null,
   "id": "47d85fd6",
   "metadata": {},
   "outputs": [],
   "source": []
  }
 ],
 "metadata": {
  "kernelspec": {
   "display_name": "Python 3 (ipykernel)",
   "language": "python",
   "name": "python3"
  },
  "language_info": {
   "codemirror_mode": {
    "name": "ipython",
    "version": 3
   },
   "file_extension": ".py",
   "mimetype": "text/x-python",
   "name": "python",
   "nbconvert_exporter": "python",
   "pygments_lexer": "ipython3",
   "version": "3.9.13"
  }
 },
 "nbformat": 4,
 "nbformat_minor": 5
}
