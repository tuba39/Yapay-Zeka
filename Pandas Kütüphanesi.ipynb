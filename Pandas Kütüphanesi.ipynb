{
 "cells": [
  {
   "cell_type": "markdown",
   "id": "ca812064",
   "metadata": {},
   "source": [
    "# Pandas Kütüphanesi"
   ]
  },
  {
   "cell_type": "markdown",
   "id": "59705628",
   "metadata": {},
   "source": [
    "Pandas serileri, bir liste,dizi veya sözlük gibi farklı veri tiplerinden oluşturulabilir."
   ]
  },
  {
   "cell_type": "code",
   "execution_count": 1,
   "id": "ab3e33d5",
   "metadata": {},
   "outputs": [
    {
     "name": "stdout",
     "output_type": "stream",
     "text": [
      "0    1\n",
      "1    2\n",
      "2    3\n",
      "3    4\n",
      "4    5\n",
      "dtype: int64\n"
     ]
    }
   ],
   "source": [
    "import pandas as pd\n",
    "\n",
    "# Liste kullanarak bir pandas serisi oluşturma\n",
    "my_list = [1,2,3,4,5]\n",
    "my_series = pd.Series(my_list)\n",
    "print(my_series)"
   ]
  },
  {
   "cell_type": "markdown",
   "id": "b077952e",
   "metadata": {},
   "source": [
    "# Pandas Veri Çerçeveleri"
   ]
  },
  {
   "cell_type": "code",
   "execution_count": 2,
   "id": "cd36b536",
   "metadata": {},
   "outputs": [
    {
     "name": "stdout",
     "output_type": "stream",
     "text": [
      "     name  age\n",
      "0    Tuba   32\n",
      "1    Emre   33\n",
      "2  Zeynep    3\n"
     ]
    }
   ],
   "source": [
    "import pandas as pd\n",
    "\n",
    "# Sözlük kullanarak bir pandas veri çerçevesi oluşturulabilir.\n",
    "my_dict = {'name':['Tuba', 'Emre', 'Zeynep'], 'age': [32, 33, 3]}\n",
    "my_dataframe = pd.DataFrame(my_dict)\n",
    "print(my_dataframe)"
   ]
  },
  {
   "cell_type": "markdown",
   "id": "cc850899",
   "metadata": {},
   "source": [
    "# Pandas Dosya İşlemleri"
   ]
  },
  {
   "cell_type": "raw",
   "id": "ef1656d7",
   "metadata": {},
   "source": [
    "import pandas as pd\n",
    "\n",
    "# CSV dosyasından bir veri çerçevesi okuma\n",
    "my_dataframe = pd.read_csv('data.csv')\n",
    "print(my_dataframe)\n",
    "\n",
    "# Excel dosyasından bir veri çerçevesi okuma\n",
    "my_dataframe = pd.read_excel('data.xlsx')\n",
    "print(my_dataframe)\n",
    "\n",
    "# Veri çerçevesini bir CSV dosyasına yazma\n",
    "my_dataframe.to_csv('data.csv', index=False)"
   ]
  },
  {
   "cell_type": "code",
   "execution_count": 7,
   "id": "2dae3789",
   "metadata": {},
   "outputs": [
    {
     "name": "stdout",
     "output_type": "stream",
     "text": [
      "   İSİM SOYİSİM   YAŞ\n",
      "0  ERAY  BİLMİŞ    54\n",
      "1  REHA  YILMAZ    34\n",
      "2  TAHA   DUYAR    24\n",
      "3  ESRA   KOÇAR    18\n"
     ]
    }
   ],
   "source": [
    "import pandas as pd\n",
    "\n",
    "my_dataframe = pd.read_excel('D:\\PANDAS\\PANDASS.xlsx')\n",
    "print(my_dataframe)"
   ]
  },
  {
   "cell_type": "code",
   "execution_count": null,
   "id": "398f8bc2",
   "metadata": {},
   "outputs": [],
   "source": []
  }
 ],
 "metadata": {
  "kernelspec": {
   "display_name": "Python 3 (ipykernel)",
   "language": "python",
   "name": "python3"
  },
  "language_info": {
   "codemirror_mode": {
    "name": "ipython",
    "version": 3
   },
   "file_extension": ".py",
   "mimetype": "text/x-python",
   "name": "python",
   "nbconvert_exporter": "python",
   "pygments_lexer": "ipython3",
   "version": "3.9.13"
  }
 },
 "nbformat": 4,
 "nbformat_minor": 5
}
