{
  "metadata": {
    "language_info": {
      "codemirror_mode": {
        "name": "python",
        "version": 3
      },
      "file_extension": ".py",
      "mimetype": "text/x-python",
      "name": "python",
      "nbconvert_exporter": "python",
      "pygments_lexer": "ipython3",
      "version": "3.8"
    },
    "kernelspec": {
      "name": "python",
      "display_name": "Python (Pyodide)",
      "language": "python"
    }
  },
  "nbformat_minor": 4,
  "nbformat": 4,
  "cells": [
    {
      "cell_type": "markdown",
      "source": "# MERHABA PYTHON",
      "metadata": {}
    },
    {
      "cell_type": "markdown",
      "source": "# PYTHON İLE MATEMATİKSEL İŞLEMLER",
      "metadata": {}
    },
    {
      "cell_type": "markdown",
      "source": "## 1. Toplama işlemi",
      "metadata": {}
    },
    {
      "cell_type": "markdown",
      "source": "Python matematiksel işlemler yapabilen bir yazılım dilidir. Şimdi sizlere toplama işlemi örneğini göstereceğim.",
      "metadata": {}
    },
    {
      "cell_type": "code",
      "source": "a=12\nb=13\na+b",
      "metadata": {
        "trusted": true
      },
      "execution_count": 1,
      "outputs": [
        {
          "execution_count": 1,
          "output_type": "execute_result",
          "data": {
            "text/plain": "25"
          },
          "metadata": {}
        }
      ]
    },
    {
      "cell_type": "markdown",
      "source": "## 2. Çıkarma İşlemi",
      "metadata": {}
    },
    {
      "cell_type": "code",
      "source": "Bu örnekte çıkarma işlemini göreceğiz.",
      "metadata": {},
      "execution_count": null,
      "outputs": []
    },
    {
      "cell_type": "code",
      "source": "a=56\nb=27\na-b",
      "metadata": {
        "trusted": true
      },
      "execution_count": 2,
      "outputs": [
        {
          "execution_count": 2,
          "output_type": "execute_result",
          "data": {
            "text/plain": "29"
          },
          "metadata": {}
        }
      ]
    },
    {
      "cell_type": "markdown",
      "source": "## 3. Tam Bölme İşlemi",
      "metadata": {}
    },
    {
      "cell_type": "markdown",
      "source": "Bu örnekte tam bölme işlemini yapacağız.",
      "metadata": {}
    },
    {
      "cell_type": "code",
      "source": "a= 145\nb= 5\na//b",
      "metadata": {
        "trusted": true
      },
      "execution_count": 3,
      "outputs": [
        {
          "execution_count": 3,
          "output_type": "execute_result",
          "data": {
            "text/plain": "29"
          },
          "metadata": {}
        }
      ]
    },
    {
      "cell_type": "markdown",
      "source": "## 4. Çarpma İşlemi",
      "metadata": {}
    },
    {
      "cell_type": "markdown",
      "source": "Bu örnekte çarpma işlemini yapacağız.",
      "metadata": {}
    },
    {
      "cell_type": "code",
      "source": "a=6\nb=8\na*b",
      "metadata": {
        "trusted": true
      },
      "execution_count": 4,
      "outputs": [
        {
          "execution_count": 4,
          "output_type": "execute_result",
          "data": {
            "text/plain": "48"
          },
          "metadata": {}
        }
      ]
    },
    {
      "cell_type": "markdown",
      "source": "## 5. Üs Bulma İşlemi",
      "metadata": {}
    },
    {
      "cell_type": "code",
      "source": "a=4\nb=2\na**b",
      "metadata": {
        "trusted": true
      },
      "execution_count": 5,
      "outputs": [
        {
          "execution_count": 5,
          "output_type": "execute_result",
          "data": {
            "text/plain": "16"
          },
          "metadata": {}
        }
      ]
    },
    {
      "cell_type": "markdown",
      "source": "## 6. İşlem Önceliği",
      "metadata": {}
    },
    {
      "cell_type": "code",
      "source": "",
      "metadata": {},
      "execution_count": null,
      "outputs": []
    }
  ]
}
