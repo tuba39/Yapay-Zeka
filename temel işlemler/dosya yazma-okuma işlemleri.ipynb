{
 "cells": [
  {
   "cell_type": "markdown",
   "id": "957364dc",
   "metadata": {},
   "source": [
    "# Dosya Açma ve Yazma İşlemleri"
   ]
  },
  {
   "cell_type": "code",
   "execution_count": 1,
   "id": "6e693428",
   "metadata": {},
   "outputs": [
    {
     "data": {
      "text/plain": [
       "<_io.TextIOWrapper name='bilgiler.txt' mode='w' encoding='cp1254'>"
      ]
     },
     "execution_count": 1,
     "metadata": {},
     "output_type": "execute_result"
    }
   ],
   "source": [
    "open(\"bilgiler.txt\", \"w\") # Dosyayı bulunduğumuz dizinde açıyor."
   ]
  },
  {
   "cell_type": "code",
   "execution_count": 2,
   "id": "6bcfbb40",
   "metadata": {},
   "outputs": [],
   "source": [
    "file = open(\"bilgiler.txt\",\"w\") "
   ]
  },
  {
   "cell_type": "code",
   "execution_count": 3,
   "id": "a36f00ed",
   "metadata": {},
   "outputs": [
    {
     "data": {
      "text/plain": [
       "13"
      ]
     },
     "execution_count": 3,
     "metadata": {},
     "output_type": "execute_result"
    }
   ],
   "source": [
    "file = open(\"bilgiler.txt\", \"w\", encoding=\"utf-8\") # Türkçe karakter yazmak için\n",
    "file.write(\"Merhaba Dünya\") "
   ]
  },
  {
   "cell_type": "code",
   "execution_count": 4,
   "id": "078b0ce8",
   "metadata": {},
   "outputs": [
    {
     "data": {
      "text/plain": [
       "14"
      ]
     },
     "execution_count": 4,
     "metadata": {},
     "output_type": "execute_result"
    }
   ],
   "source": [
    "file=open(\"D:/bilgiler.txt\", \"w\")\n",
    "file.write(\"Merhaba Dünya\\n\")"
   ]
  },
  {
   "cell_type": "code",
   "execution_count": 5,
   "id": "e80bc686",
   "metadata": {},
   "outputs": [
    {
     "data": {
      "text/plain": [
       "11"
      ]
     },
     "execution_count": 5,
     "metadata": {},
     "output_type": "execute_result"
    }
   ],
   "source": [
    "file = open(\"D:/bilgiler.txt\", \"a\", encoding=\"utf-8\") # Türkçe karakter yazmak için\n",
    "file.write(\"Ben Dünyalı\") "
   ]
  },
  {
   "cell_type": "markdown",
   "id": "85430517",
   "metadata": {},
   "source": [
    "file = open(\"D:/bilgiler.txt\", \"r\", encoding=\"utf-8\") \n",
    "     \n",
    "for i in file:\n",
    "    print(i)\n",
    "file.close()"
   ]
  },
  {
   "cell_type": "markdown",
   "id": "f74ef0a4",
   "metadata": {},
   "source": [
    "# Dosya Okuma İşlemleri"
   ]
  },
  {
   "cell_type": "code",
   "execution_count": 7,
   "id": "f29e324b",
   "metadata": {},
   "outputs": [
    {
     "data": {
      "text/plain": [
       "<function TextIOWrapper.readline(size=-1, /)>"
      ]
     },
     "execution_count": 7,
     "metadata": {},
     "output_type": "execute_result"
    }
   ],
   "source": [
    "file.readline  # satır okuyor"
   ]
  },
  {
   "cell_type": "markdown",
   "id": "0e732bb0",
   "metadata": {},
   "source": [
    "file.readlines() # tüm satırları okuyor."
   ]
  },
  {
   "cell_type": "code",
   "execution_count": null,
   "id": "1a084439",
   "metadata": {},
   "outputs": [],
   "source": []
  }
 ],
 "metadata": {
  "kernelspec": {
   "display_name": "Python 3 (ipykernel)",
   "language": "python",
   "name": "python3"
  },
  "language_info": {
   "codemirror_mode": {
    "name": "ipython",
    "version": 3
   },
   "file_extension": ".py",
   "mimetype": "text/x-python",
   "name": "python",
   "nbconvert_exporter": "python",
   "pygments_lexer": "ipython3",
   "version": "3.9.13"
  }
 },
 "nbformat": 4,
 "nbformat_minor": 5
}
