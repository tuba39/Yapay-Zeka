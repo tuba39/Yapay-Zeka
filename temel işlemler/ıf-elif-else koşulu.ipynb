{
 "cells": [
  {
   "cell_type": "markdown",
   "id": "66ce5aec",
   "metadata": {},
   "source": [
    "# If - Elif - Else Koşulu"
   ]
  },
  {
   "cell_type": "markdown",
   "id": "eb2f1f9d",
   "metadata": {},
   "source": [
    "if koşul:\n",
    "     Yapılacak İşlemler\n",
    "elif başka bir koşul:\n",
    "     Yapılacak İşlemler\n",
    "elif başka bir koşul:\n",
    "     Yapılacak İşlemler\n",
    "        \n",
    "        //\n",
    "        //\n",
    "else:\n",
    "    Yapılacak İşlemler"
   ]
  },
  {
   "cell_type": "code",
   "execution_count": 3,
   "id": "a15e6530",
   "metadata": {},
   "outputs": [
    {
     "name": "stdout",
     "output_type": "stream",
     "text": [
      "İşlem seçiniz:1\n",
      "1. işlem seçildi.\n"
     ]
    }
   ],
   "source": [
    "işlem = int(input(\"İşlem seçiniz:\")) # 3 tane işleminiz olsun.\n",
    "\n",
    "if işlem == 1:\n",
    "    print(\"1. işlem seçildi.\")\n",
    "elif işlem == 2:\n",
    "    print(\"2. işlem seçildi.\")\n",
    "elif işlem == 3:\n",
    "    print(\"3. işlem seçildi.\")\n",
    "else:\n",
    "    print(\"Geçersiz İşlem!\")"
   ]
  },
  {
   "cell_type": "code",
   "execution_count": null,
   "id": "8b29a4a0",
   "metadata": {},
   "outputs": [],
   "source": []
  }
 ],
 "metadata": {
  "kernelspec": {
   "display_name": "Python 3 (ipykernel)",
   "language": "python",
   "name": "python3"
  },
  "language_info": {
   "codemirror_mode": {
    "name": "ipython",
    "version": 3
   },
   "file_extension": ".py",
   "mimetype": "text/x-python",
   "name": "python",
   "nbconvert_exporter": "python",
   "pygments_lexer": "ipython3",
   "version": "3.9.13"
  }
 },
 "nbformat": 4,
 "nbformat_minor": 5
}
