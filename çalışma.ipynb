{
 "cells": [
  {
   "cell_type": "markdown",
   "id": "9d965347",
   "metadata": {},
   "source": [
    "## Listeler"
   ]
  },
  {
   "cell_type": "markdown",
   "id": "d90be6e1",
   "metadata": {},
   "source": [
    "Bu bölümde yapacağımız işlemler şunlardır:\n",
    "\n",
    "       1- Liste oluşturma\n",
    "       2- İndexleme ve parçalama\n",
    "       3- Temel liste metodları ve işlemleri\n",
    "       4- İç içe listeler"
   ]
  },
  {
   "cell_type": "markdown",
   "id": "bf65ffba",
   "metadata": {},
   "source": [
    "## Liste oluşturma"
   ]
  },
  {
   "cell_type": "code",
   "execution_count": 1,
   "id": "f6d71671",
   "metadata": {},
   "outputs": [
    {
     "data": {
      "text/plain": [
       "['elma', 'karpuz', 'portakal', 'mandalina', 'kiraz']"
      ]
     },
     "execution_count": 1,
     "metadata": {},
     "output_type": "execute_result"
    }
   ],
   "source": [
    "meyveler=[\"elma\",\"karpuz\",\"portakal\",\"mandalina\",\"kiraz\"]\n",
    "meyveler"
   ]
  },
  {
   "cell_type": "code",
   "execution_count": 2,
   "id": "40892f86",
   "metadata": {},
   "outputs": [
    {
     "data": {
      "text/plain": [
       "[1, 3, 5, 7, 9, 11, 13, 15]"
      ]
     },
     "execution_count": 2,
     "metadata": {},
     "output_type": "execute_result"
    }
   ],
   "source": [
    "Teksayılar = [1,3,5,7,9,11,13,15]\n",
    "Teksayılar"
   ]
  },
  {
   "cell_type": "code",
   "execution_count": 3,
   "id": "40d4e9e1",
   "metadata": {},
   "outputs": [
    {
     "data": {
      "text/plain": [
       "[1, 2, 3, 4, 5, 6]"
      ]
     },
     "execution_count": 3,
     "metadata": {},
     "output_type": "execute_result"
    }
   ],
   "source": [
    "[1, 2, 3, 4, 5, 6 ]"
   ]
  },
  {
   "cell_type": "code",
   "execution_count": 4,
   "id": "0b331d61",
   "metadata": {},
   "outputs": [
    {
     "data": {
      "text/plain": [
       "11"
      ]
     },
     "execution_count": 4,
     "metadata": {},
     "output_type": "execute_result"
    }
   ],
   "source": [
    "# len fonksiyonu listeler üzerine de kullanılabilir.\n",
    "liste3 = [3,4,5,6,6,7,8,9,0,0,0]\n",
    "len(liste3)"
   ]
  },
  {
   "cell_type": "code",
   "execution_count": 5,
   "id": "b1ca36b6",
   "metadata": {},
   "outputs": [
    {
     "data": {
      "text/plain": [
       "['M', 'e', 'r', 'h', 'a', 'b', 'a']"
      ]
     },
     "execution_count": 5,
     "metadata": {},
     "output_type": "execute_result"
    }
   ],
   "source": [
    "s = \"Merhaba\"\n",
    "lst = list(s)\n",
    "lst"
   ]
  },
  {
   "cell_type": "code",
   "execution_count": 6,
   "id": "3a5f7182",
   "metadata": {},
   "outputs": [
    {
     "data": {
      "text/plain": [
       "6"
      ]
     },
     "execution_count": 6,
     "metadata": {},
     "output_type": "execute_result"
    }
   ],
   "source": [
    "liste6 = [1,9,7,8,6]\n",
    "liste6[4]"
   ]
  },
  {
   "cell_type": "code",
   "execution_count": 7,
   "id": "60ec5eff",
   "metadata": {},
   "outputs": [
    {
     "name": "stdout",
     "output_type": "stream",
     "text": [
      "Lütfen bir sayı giriniz:25\n"
     ]
    },
    {
     "data": {
      "text/plain": [
       "'25'"
      ]
     },
     "execution_count": 7,
     "metadata": {},
     "output_type": "execute_result"
    }
   ],
   "source": [
    "input(\"Lütfen bir sayı giriniz:\")"
   ]
  },
  {
   "cell_type": "code",
   "execution_count": 8,
   "id": "57c96407",
   "metadata": {},
   "outputs": [
    {
     "name": "stdout",
     "output_type": "stream",
     "text": [
      "Birinci Sayı:12\n",
      "İkinci Sayı:24\n",
      "Üçüncü Sayı:54\n",
      "Toplamları: 90\n"
     ]
    }
   ],
   "source": [
    "a = int (input(\"Birinci Sayı:\"))\n",
    "b = int (input(\"İkinci Sayı:\"))\n",
    "c = int(input(\"Üçüncü Sayı:\"))\n",
    "\n",
    "print(\"Toplamları:\",a+b+c)"
   ]
  },
  {
   "cell_type": "code",
   "execution_count": null,
   "id": "f59666ed",
   "metadata": {},
   "outputs": [],
   "source": []
  }
 ],
 "metadata": {
  "kernelspec": {
   "display_name": "Python 3 (ipykernel)",
   "language": "python",
   "name": "python3"
  },
  "language_info": {
   "codemirror_mode": {
    "name": "ipython",
    "version": 3
   },
   "file_extension": ".py",
   "mimetype": "text/x-python",
   "name": "python",
   "nbconvert_exporter": "python",
   "pygments_lexer": "ipython3",
   "version": "3.9.13"
  }
 },
 "nbformat": 4,
 "nbformat_minor": 5
}
